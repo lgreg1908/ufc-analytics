{
 "cells": [
  {
   "cell_type": "code",
   "execution_count": 1,
   "metadata": {},
   "outputs": [],
   "source": [
    "import os\n",
    "import pandas as pd\n",
    "import numpy as np\n",
    "from src.scrape.utils import load_yaml\n",
    "from src.clean.cleaners import (\n",
    "    EventsCleaner, \n",
    "    FighterCleaner, \n",
    "    ResultsCleaner, \n",
    "    RoundsCleaner)"
   ]
  },
  {
   "cell_type": "code",
   "execution_count": 2,
   "metadata": {},
   "outputs": [],
   "source": [
    "\n",
    "def clean_events(config: dict, root_dir: str) -> pd.DataFrame:\n",
    "    \"\"\"\n",
    "    Load and clean the raw events data.\n",
    "    \"\"\"\n",
    "    events_path = os.path.join(root_dir, config['output_files']['raw']['events'])\n",
    "    df_events = pd.read_json(events_path)\n",
    "    cleaner = EventsCleaner(df_events)\n",
    "    return cleaner.clean()\n",
    "\n",
    "def clean_results(config: dict, root_dir: str) -> pd.DataFrame:\n",
    "    \"\"\"\n",
    "    Load and clean the raw results data.\n",
    "    \"\"\"\n",
    "    results_path = os.path.join(root_dir, config['output_files']['raw']['results'])\n",
    "    df_results = pd.read_json(results_path)\n",
    "    cleaner = ResultsCleaner(df_results)\n",
    "    return cleaner.clean()\n",
    "\n",
    "def clean_fighters(config: dict, root_dir: str) -> pd.DataFrame:\n",
    "    \"\"\"\n",
    "    Load and clean the raw fighters data.\n",
    "    \"\"\"\n",
    "    fighters_path = os.path.join(root_dir, config['output_files']['raw']['fighters'])\n",
    "    df_fighters = pd.read_json(fighters_path)\n",
    "    cleaner = FighterCleaner(df_fighters)\n",
    "    return cleaner.clean()\n",
    "\n",
    "def clean_rounds(config: dict, root_dir: str) -> pd.DataFrame:\n",
    "    \"\"\"\n",
    "    Load and clean the raw rounds data.\n",
    "    \"\"\"\n",
    "    rounds_path = os.path.join(root_dir, config['output_files']['raw']['rounds'])\n",
    "    df_rounds = pd.read_json(rounds_path)\n",
    "    cleaner = RoundsCleaner(df_rounds)\n",
    "    return cleaner.clean()\n",
    "\n",
    "\n"
   ]
  },
  {
   "cell_type": "code",
   "execution_count": 3,
   "metadata": {},
   "outputs": [],
   "source": [
    "\n",
    "def run_cleaning_pipeline(config: dict, root_dir: str) -> None:\n",
    "    \"\"\"\n",
    "    Run the complete cleaning pipeline and save the outputs as Parquet files.\n",
    "    \n",
    "    The pipeline:\n",
    "      1. Load and clean events.\n",
    "      2. Load and clean results.\n",
    "      3. Load and clean fighters.\n",
    "      4. Load and clean rounds.\n",
    "      5. Save the cleaned DataFrames to Parquet files.\n",
    "    \n",
    "    It is assumed that your config contains separate entries for the raw files \n",
    "    (under config['output_files']['raw']) and the cleaned output files \n",
    "    (under config['output_files']['clean']).\n",
    "    \"\"\"\n",
    "    # Clean each dataset\n",
    "    cleaned_events_df   = clean_events(config, root_dir)\n",
    "    cleaned_results_df  = clean_results(config, root_dir)\n",
    "    cleaned_fighters_df = clean_fighters(config, root_dir)\n",
    "    cleaned_rounds_df   = clean_rounds(config, root_dir)\n",
    "    \n",
    "    # Define output file paths for cleaned data (as Parquet files).\n",
    "    events_output   = os.path.join(root_dir, config['output_files']['clean']['events'])\n",
    "    results_output  = os.path.join(root_dir, config['output_files']['clean']['results'])\n",
    "    fighters_output = os.path.join(root_dir, config['output_files']['clean']['fighters'])\n",
    "    rounds_output   = os.path.join(root_dir, config['output_files']['clean']['rounds'])\n",
    "    \n",
    "    # Save the cleaned DataFrames as Parquet.\n",
    "    cleaned_events_df.to_parquet(events_output, index=False, engine='pyarrow')\n",
    "    cleaned_results_df.to_parquet(results_output, index=False, engine='pyarrow')\n",
    "    cleaned_fighters_df.to_parquet(fighters_output, index=False, engine='pyarrow')\n",
    "    cleaned_rounds_df.to_parquet(rounds_output, index=False, engine='pyarrow')\n"
   ]
  },
  {
   "cell_type": "code",
   "execution_count": 4,
   "metadata": {},
   "outputs": [],
   "source": [
    "def main():\n",
    "    root_dir = os.path.abspath('.')\n",
    "    config_path = os.path.join(root_dir, 'config', 'config.yaml')\n",
    "    config = load_yaml(config_path)\n",
    "    run_cleaning_pipeline(config=config, root_dir=root_dir)"
   ]
  },
  {
   "cell_type": "code",
   "execution_count": 5,
   "metadata": {},
   "outputs": [],
   "source": [
    "main()\n"
   ]
  }
 ],
 "metadata": {
  "kernelspec": {
   "display_name": "venv",
   "language": "python",
   "name": "python3"
  },
  "language_info": {
   "codemirror_mode": {
    "name": "ipython",
    "version": 3
   },
   "file_extension": ".py",
   "mimetype": "text/x-python",
   "name": "python",
   "nbconvert_exporter": "python",
   "pygments_lexer": "ipython3",
   "version": "3.13.1"
  }
 },
 "nbformat": 4,
 "nbformat_minor": 2
}
