{
 "cells": [
  {
   "cell_type": "code",
   "execution_count": 25,
   "metadata": {},
   "outputs": [],
   "source": [
    "import os\n",
    "from src.utils import load_yaml, get_event_urls, get_fighter_urls, get_fight_urls, convert_models_to_dicts\n",
    "from src.scrapers import scrape_events, scrape_fighters, scrape_rounds, scrape_results\n",
    "from pathlib import Path\n",
    "import json"
   ]
  },
  {
   "cell_type": "code",
   "execution_count": null,
   "metadata": {},
   "outputs": [],
   "source": [
    "root_dir = os.path.abspath('.')\n",
    "config_path = os.path.join(root_dir, 'config', 'config.yaml')\n",
    "config = load_yaml(config_path)\n",
    "\n",
    " "
   ]
  },
  {
   "cell_type": "code",
   "execution_count": null,
   "metadata": {},
   "outputs": [],
   "source": []
  },
  {
   "cell_type": "code",
   "execution_count": null,
   "metadata": {},
   "outputs": [],
   "source": [
    "events = scrape_events(config['event_urls']['all'])\n",
    "event_urls = get_event_urls(events_data=[row.dict() for row in events])"
   ]
  },
  {
   "cell_type": "code",
   "execution_count": null,
   "metadata": {},
   "outputs": [
    {
     "ename": "NameError",
     "evalue": "name 'get_fighter_urls' is not defined",
     "output_type": "error",
     "traceback": [
      "\u001b[0;31m---------------------------------------------------------------------------\u001b[0m",
      "\u001b[0;31mNameError\u001b[0m                                 Traceback (most recent call last)",
      "Cell \u001b[0;32mIn[16], line 2\u001b[0m\n\u001b[1;32m      1\u001b[0m results \u001b[38;5;241m=\u001b[39m scrape_results(event_urls\u001b[38;5;241m=\u001b[39mevent_urls)\n\u001b[0;32m----> 2\u001b[0m fighter_urls \u001b[38;5;241m=\u001b[39m \u001b[43mget_fighter_urls\u001b[49m(results_data\u001b[38;5;241m=\u001b[39m[row\u001b[38;5;241m.\u001b[39mdict() \u001b[38;5;28;01mfor\u001b[39;00m row \u001b[38;5;129;01min\u001b[39;00m results])\n\u001b[1;32m      3\u001b[0m fight_urls \u001b[38;5;241m=\u001b[39m get_fight_urls(results_data\u001b[38;5;241m=\u001b[39m[row\u001b[38;5;241m.\u001b[39mdict() \u001b[38;5;28;01mfor\u001b[39;00m row \u001b[38;5;129;01min\u001b[39;00m results])\n",
      "\u001b[0;31mNameError\u001b[0m: name 'get_fighter_urls' is not defined"
     ]
    }
   ],
   "source": [
    "results = scrape_results(event_urls=event_urls)\n",
    "fighter_urls = get_fighter_urls(results_data=[row.dict() for row in results])\n",
    "fight_urls = get_fight_urls(results_data=[row.dict() for row in results])\n",
    "fighters = scrape_fighters(fighter_urls=fighter_urls)\n",
    "rounds = scrape_rounds(fight_urls=fight_urls)\n",
    "\n"
   ]
  },
  {
   "cell_type": "code",
   "execution_count": 27,
   "metadata": {},
   "outputs": [],
   "source": [
    "\n",
    "def save_models_to_json(models, filepath: str) -> None:\n",
    "    \"\"\"\n",
    "    Save a list of Pydantic models to a JSON file.\n",
    "\n",
    "    Args:\n",
    "        models (List[BaseModel]): List of Pydantic model instances.\n",
    "        filepath (str): The path to the JSON file where the data will be saved.\n",
    "    \"\"\"\n",
    "    # Convert each model to a dict\n",
    "    data = convert_models_to_dicts(models=models)\n",
    "    \n",
    "    # Ensure the directory exists\n",
    "    path = Path(filepath)\n",
    "    path.parent.mkdir(parents=True, exist_ok=True)\n",
    "    \n",
    "    # Write the list of dictionaries to the JSON file\n",
    "    with path.open(\"w\", encoding=\"utf-8\") as f:\n",
    "        json.dump(data, f, indent=4)"
   ]
  },
  {
   "cell_type": "code",
   "execution_count": 28,
   "metadata": {},
   "outputs": [
    {
     "data": {
      "text/plain": [
       "{'output_files': {'events': 'data/ufc_events.json',\n",
       "  'results': 'data/ufc_results.json',\n",
       "  'fighters': 'data/ufc_fighters.json',\n",
       "  'rounds': 'data/ufc_rounds.json'},\n",
       " 'event_urls': {'all': 'http://ufcstats.com/statistics/events/completed?page=all',\n",
       "  'one': 'http://ufcstats.com/statistics/events/completed?page=1'}}"
      ]
     },
     "execution_count": 28,
     "metadata": {},
     "output_type": "execute_result"
    }
   ],
   "source": [
    "config"
   ]
  },
  {
   "cell_type": "code",
   "execution_count": 38,
   "metadata": {},
   "outputs": [],
   "source": [
    "save_models_to_json(\n",
    "    models=events, \n",
    "    filepath=os.path.join(root_dir, config['output_files']['raw']['events'])\n",
    "    )"
   ]
  },
  {
   "cell_type": "code",
   "execution_count": 39,
   "metadata": {},
   "outputs": [],
   "source": [
    "save_models_to_json(\n",
    "    models=fighters, \n",
    "    filepath=os.path.join(root_dir, config['output_files']['raw']['fighters'])\n",
    "    )"
   ]
  },
  {
   "cell_type": "code",
   "execution_count": 40,
   "metadata": {},
   "outputs": [],
   "source": [
    "save_models_to_json(\n",
    "    models=rounds, \n",
    "    filepath=os.path.join(root_dir, config['output_files']['raw']['rounds'])\n",
    "    )"
   ]
  },
  {
   "cell_type": "code",
   "execution_count": 41,
   "metadata": {},
   "outputs": [],
   "source": [
    "save_models_to_json(\n",
    "    models=results, \n",
    "    filepath=os.path.join(root_dir, config['output_files']['raw']['results'])\n",
    "    )"
   ]
  },
  {
   "cell_type": "code",
   "execution_count": null,
   "metadata": {},
   "outputs": [],
   "source": []
  }
 ],
 "metadata": {
  "kernelspec": {
   "display_name": "venv",
   "language": "python",
   "name": "python3"
  },
  "language_info": {
   "codemirror_mode": {
    "name": "ipython",
    "version": 3
   },
   "file_extension": ".py",
   "mimetype": "text/x-python",
   "name": "python",
   "nbconvert_exporter": "python",
   "pygments_lexer": "ipython3",
   "version": "3.13.1"
  }
 },
 "nbformat": 4,
 "nbformat_minor": 2
}
